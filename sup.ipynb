{
 "cells": [
  {
   "cell_type": "code",
   "execution_count": 8,
   "metadata": {},
   "outputs": [],
   "source": [
    "import numpy as np"
   ]
  },
  {
   "cell_type": "code",
   "execution_count": 9,
   "metadata": {},
   "outputs": [],
   "source": [
    "Lx, Ly, Lz = 1, 1, 1\n",
    "nodes = 128\n",
    "hx = Lx / (nodes - 1)\n",
    "hy = Ly / (nodes - 1)\n",
    "hz = Lz / (nodes - 1)\n",
    "\n",
    "\n",
    "time_ticks = 20\n",
    "tau = 0.01\n",
    "\n",
    "X = np.arange(nodes)[:, np.newaxis, np.newaxis, np.newaxis] / (nodes - 1) * Lx\n",
    "Y = np.arange(nodes)[np.newaxis, :, np.newaxis, np.newaxis] / (nodes - 1) * Ly\n",
    "Z = np.arange(nodes)[np.newaxis, np.newaxis, :, np.newaxis] / (nodes - 1) * Lz\n",
    "T = np.arange(time_ticks)[np.newaxis, np.newaxis, np.newaxis, :] * tau\n",
    "\n",
    "analytical = np.sin(np.pi * X / Lx) * np.sin(np.pi * Y / Ly) * np.sin(np.pi * Z / Lz) * np.cos(3 * T) \n"
   ]
  },
  {
   "cell_type": "code",
   "execution_count": 10,
   "metadata": {},
   "outputs": [
    {
     "name": "stdout",
     "output_type": "stream",
     "text": [
      "0.0010301624952299138\n",
      "0.0011588128445416679\n",
      "0.0003871684660755603\n",
      "0.001282744991176532\n",
      "0.003848095467366308\n",
      "0.007305247037678431\n",
      "0.01164976318248212\n",
      "0.016876410778719708\n",
      "0.02297916486386742\n",
      "0.029951214299783202\n",
      "0.037784970218008196\n",
      "0.046472092731895565\n",
      "0.056003618686674694\n",
      "0.06637123583558546\n",
      "0.07757504806731064\n",
      "0.09324278659635787\n",
      "0.1651644539614966\n",
      "0.7013755969356349\n",
      "5.400588357185208\n"
     ]
    }
   ],
   "source": [
    "def laplasian(a):\n",
    "    padded = np.pad(a, 1, 'constant')\n",
    "    out = (padded[:-2,1:-1,1:-1] - 2 * padded[1:-1,1:-1,1:-1] + padded[2:,1:-1,1:-1]) / hx ** 2 + \\\n",
    "          (padded[1:-1,:-2,1:-1] - 2 * padded[1:-1,1:-1,1:-1] + padded[1:-1,2:,1:-1]) / hy ** 2 + \\\n",
    "          (padded[1:-1,1:-1,:-2] - 2 * padded[1:-1,1:-1,1:-1] + padded[1:-1,1:-1,2:]) / hz ** 2\n",
    "    \n",
    "    out[0,:,:] = 0\n",
    "    out[-1,:,:] = 0\n",
    "    out[:,0,:] = 0\n",
    "    out[:,-1,:] = 0\n",
    "    out[:,:,0] = 0\n",
    "    out[:,:,-1] = 0\n",
    "    \n",
    "    return out\n",
    "\n",
    "result = np.zeros((nodes, nodes, nodes, time_ticks))\n",
    "result[:,:,:,0:1] = np.sin(np.pi * X / Lx) * np.sin(np.pi * Y / Ly) * np.sin(np.pi * Z / Lz)\n",
    "\n",
    "result[:,:,:,1] = result[:,:,:,0] + tau ** 2 * laplasian(result[:,:,:,0]) / 2\n",
    "print(np.max(analytical[:,:,:,1] - result[:,:,:,1]))\n",
    "\n",
    "for i in range(2, time_ticks):\n",
    "    result[:,:,:,i] = result[:,:,:,i-1] + tau ** 2 * laplasian(result[:,:,:,i-1]) / 2\n",
    "    print(np.max(np.abs(analytical[:,:,:,i] - result[:,:,:,i])))\n"
   ]
  },
  {
   "cell_type": "code",
   "execution_count": null,
   "metadata": {
    "collapsed": true
   },
   "outputs": [],
   "source": []
  },
  {
   "cell_type": "code",
   "execution_count": null,
   "metadata": {
    "collapsed": true
   },
   "outputs": [],
   "source": []
  },
  {
   "cell_type": "code",
   "execution_count": null,
   "metadata": {
    "collapsed": true
   },
   "outputs": [],
   "source": []
  }
 ],
 "metadata": {
  "kernelspec": {
   "display_name": "Python 3",
   "language": "python",
   "name": "python3"
  },
  "language_info": {
   "codemirror_mode": {
    "name": "ipython",
    "version": 3
   },
   "file_extension": ".py",
   "mimetype": "text/x-python",
   "name": "python",
   "nbconvert_exporter": "python",
   "pygments_lexer": "ipython3",
   "version": "3.6.9"
  }
 },
 "nbformat": 4,
 "nbformat_minor": 2
}
